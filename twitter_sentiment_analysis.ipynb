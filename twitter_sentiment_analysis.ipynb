{
 "cells": [
  {
   "cell_type": "code",
   "execution_count": null,
   "metadata": {},
   "outputs": [],
   "source": [
    "import os\n",
    "import pandas as pd"
   ]
  },
  {
   "cell_type": "code",
   "execution_count": null,
   "metadata": {},
   "outputs": [],
   "source": [
    "tweets = os.walk('Twitter')\n",
    "tweet_dir = {\n",
    "    'root': [],\n",
    "    'dirs': [],\n",
    "    'tweet_id': []\n",
    "}\n",
    "print(tweets)\n",
    "for root, dirs, files in tweets:\n",
    "    tweet_dir['dirs'].append(root)\n",
    "    for file in files:\n",
    "        tweet_dir['root'].append(file)\n",
    "        print(file)\n",
    "        with open(os.path.join(root, file), 'r') as f:\n",
    "            print(f.read())\n",
    "            tweet_dir['tweet_id'].append(f.read())"
   ]
  },
  {
   "cell_type": "code",
   "execution_count": null,
   "metadata": {},
   "outputs": [],
   "source": [
    "tweets_df = pd.DataFrame(tweet_dir)"
   ]
  },
  {
   "cell_type": "code",
   "execution_count": null,
   "metadata": {},
   "outputs": [],
   "source": [
    "tweet_df"
   ]
  },
  {
   "cell_type": "code",
   "execution_count": null,
   "metadata": {},
   "outputs": [],
   "source": [
    "# scrape tweets\n",
    "os.system('python3 twitter_scraper.py')"
   ]
  }
 ],
 "metadata": {
  "kernelspec": {
   "display_name": "nlp",
   "language": "python",
   "name": "python3"
  },
  "language_info": {
   "codemirror_mode": {
    "name": "ipython",
    "version": 3
   },
   "file_extension": ".py",
   "mimetype": "text/x-python",
   "name": "python",
   "nbconvert_exporter": "python",
   "pygments_lexer": "ipython3",
   "version": "3.11.4"
  }
 },
 "nbformat": 4,
 "nbformat_minor": 2
}
